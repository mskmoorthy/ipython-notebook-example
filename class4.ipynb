{
 "metadata": {
  "name": "Class-ipython notebook"
 },
 "nbformat": 3,
 "nbformat_minor": 0,
 "worksheets": [
  {
   "cells": [
    {
     "cell_type": "code",
     "collapsed": false,
     "input": "print \"Hello World\"",
     "language": "python",
     "metadata": {},
     "outputs": [
      {
       "output_type": "stream",
       "stream": "stdout",
       "text": "Hello World\n"
      }
     ],
     "prompt_number": 1
    },
    {
     "cell_type": "raw",
     "metadata": {},
     "source": "The above line prints Hello World\n"
    },
    {
     "cell_type": "code",
     "collapsed": false,
     "input": "def sq(x):\n    return(x*x)",
     "language": "python",
     "metadata": {},
     "outputs": [],
     "prompt_number": 2
    },
    {
     "cell_type": "markdown",
     "metadata": {},
     "source": "## It is a function to create square\n- We will store the values in an array called temp\n- use matplotlib to plot the value"
    },
    {
     "cell_type": "code",
     "collapsed": false,
     "input": "temp=[]\nfor i in range(1,20):\n    temp.append(sq(i))\n    \nprint(temp)\nimport matplotlib.pyplot as plt\nplt.plot(temp)\nplt.ylabel('square numbers')\nplt.show()",
     "language": "python",
     "metadata": {},
     "outputs": [],
     "prompt_number": "*"
    },
    {
     "cell_type": "markdown",
     "metadata": {},
     "source": "![result of output](http://www.cs.rpi.edu/~moorthy/figure_1.png \"Output image 1\")\n\n "
    },
    {
     "cell_type": "code",
     "collapsed": false,
     "input": "",
     "language": "python",
     "metadata": {},
     "outputs": []
    }
   ],
   "metadata": {}
  }
 ]
